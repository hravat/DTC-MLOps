{
 "cells": [
  {
   "cell_type": "code",
   "execution_count": 1,
   "id": "32c3b5ed",
   "metadata": {},
   "outputs": [
    {
     "name": "stdout",
     "output_type": "stream",
     "text": [
      "Database created at ../mlflow-db/mlflow.db\n"
     ]
    }
   ],
   "source": [
    "import sqlite3\n",
    "import os\n",
    "import mlflow\n",
    "\n",
    "# Specify the path where you want to store the database\n",
    "db_path = '../mlflow-db/mlflow.db'\n",
    "\n",
    "# Check if the database already exists\n",
    "if os.path.exists(db_path):\n",
    "    print(f\"Database already exists at {db_path}\")\n",
    "else:\n",
    "    # Connect to the SQLite database (it will create the file if it doesn't exist)\n",
    "    conn = sqlite3.connect(db_path)\n",
    "    print(f\"Database created at {db_path}\")\n",
    "    # Close the connection\n",
    "    conn.close()\n"
   ]
  },
  {
   "cell_type": "markdown",
   "id": "87787475",
   "metadata": {},
   "source": [
    "## Q1. Install MLflow\n",
    "\n",
    "To get started with MLflow you'll need to install the MLflow Python package.\n",
    "\n",
    "For this we recommend creating a separate Python environment, for example, you can use [conda environments](https://docs.conda.io/projects/conda/en/latest/user-guide/getting-started.html#managing-envs), and then install the package there with `pip` or `conda`.\n",
    "\n",
    "Once you installed the package, run the command `mlflow --version` and check the output.\n",
    "\n",
    "What's the version that you have?\n",
    "\n",
    "**<span style=\"color:green\">mlflow, version 2.22.0</span>**\n"
   ]
  },
  {
   "cell_type": "code",
   "execution_count": 14,
   "id": "e6ec5c1b",
   "metadata": {},
   "outputs": [
    {
     "name": "stdout",
     "output_type": "stream",
     "text": [
      "mlflow, version 2.22.0\n"
     ]
    }
   ],
   "source": [
    "!mlflow --version"
   ]
  },
  {
   "cell_type": "markdown",
   "id": "b85fae16",
   "metadata": {
    "vscode": {
     "languageId": "powershell"
    }
   },
   "source": [
    "## Q2. Download and preprocess the data\n",
    "\n",
    "We'll use the Green Taxi Trip Records dataset to predict the duration of each trip. \n",
    "\n",
    "Download the data for January, February and March 2023 in parquet format from [here](https://www1.nyc.gov/site/tlc/about/tlc-trip-record-data.page).\n",
    "\n",
    "Use the script `preprocess_data.py` located in the folder [`homework`](homework) to preprocess the data.\n",
    "\n",
    "The script will:\n",
    "\n",
    "* load the data from the folder `<TAXI_DATA_FOLDER>` (the folder where you have downloaded the data),\n",
    "* fit a `DictVectorizer` on the training set (January 2023 data),\n",
    "* save the preprocessed datasets and the `DictVectorizer` to disk.\n",
    "\n",
    "Your task is to download the datasets and then execute this command:\n",
    "\n",
    "```\n",
    "python preprocess_data.py --raw_data_path <TAXI_DATA_FOLDER> --dest_path ./output\n",
    "```\n",
    "\n",
    "Tip: go to `02-experiment-tracking/homework/` folder before executing the command and change the value of `<TAXI_DATA_FOLDER>` to the location where you saved the data.\n",
    "\n",
    "How many files were saved to `OUTPUT_FOLDER`?\n",
    "\n",
    "* 1\n",
    "* 3 \n",
    "* **<span style=\"color:green\">4</span>**\n",
    "* 7\n"
   ]
  },
  {
   "cell_type": "code",
   "execution_count": 15,
   "id": "206bc207",
   "metadata": {},
   "outputs": [],
   "source": [
    "!python preprocess_data.py --raw_data_path ../data/ --dest_path \"../Homework-02-Prepocess-Output\""
   ]
  },
  {
   "cell_type": "code",
   "execution_count": 16,
   "id": "2c29eec2",
   "metadata": {},
   "outputs": [
    {
     "name": "stdout",
     "output_type": "stream",
     "text": [
      "4\n"
     ]
    }
   ],
   "source": [
    "!dir /a-d /b \"..\\Homework-02-Prepocess-Output\" | find /c /v \"\""
   ]
  },
  {
   "cell_type": "markdown",
   "id": "da874099",
   "metadata": {},
   "source": [
    "## Q3. Train a model with autolog\n",
    "\n",
    "We will train a `RandomForestRegressor` (from Scikit-Learn) on the taxi dataset.\n",
    "\n",
    "We have prepared the training script `train.py` for this exercise, which can be also found in the folder [`homework`](homework). \n",
    "\n",
    "The script will:\n",
    "\n",
    "* load the datasets produced by the previous step,\n",
    "* train the model on the training set,\n",
    "* calculate the RMSE score on the validation set.\n",
    "\n",
    "Your task is to modify the script to enable **autologging** with MLflow, execute the script and then launch the MLflow UI to check that the experiment run was properly tracked. \n",
    "\n",
    "Tip 1: don't forget to wrap the training code with a `with mlflow.start_run():` statement as we showed in the videos.\n",
    "\n",
    "Tip 2: don't modify the hyperparameters of the model to make sure that the training will finish quickly.\n",
    "\n",
    "What is the value of the `min_samples_split` parameter:\n",
    "\n",
    "* **<span style=\"color:green\">2</span>**\n",
    "* 4\n",
    "* 8\n",
    "* 10\n"
   ]
  },
  {
   "cell_type": "code",
   "execution_count": 18,
   "id": "85ed054f",
   "metadata": {},
   "outputs": [
    {
     "name": "stdout",
     "output_type": "stream",
     "text": [
      "Experiment '02-Experiment-Tracking' already exists.\n",
      "Tracking URI:- sqlite:///e:\\GitHub\\DTC MLOps\\mlflow-db\\mlflow.db\n",
      "Artifact Path:- file:///E:/GitHub/DTC MLOps/mlflow-artifacts/02-Experiment-Tracking\n",
      "Artifact Location for '02-Experiment-Tracking': file:///E:/GitHub/DTC MLOps/mlflow-artifacts/02-Experiment-Tracking\n"
     ]
    },
    {
     "name": "stderr",
     "output_type": "stream",
     "text": [
      "2025/05/14 11:08:33 INFO mlflow.tracking.fluent: Autologging successfully enabled for sklearn.\n",
      "2025/05/14 11:08:36 INFO mlflow.utils.autologging_utils: Created MLflow autologging run with ID '4b1d5efe256b493092324d7b0a38ff86', which will track hyperparameters, performance metrics, model artifacts, and lineage information for the current sklearn workflow\n"
     ]
    }
   ],
   "source": [
    "!python train.py"
   ]
  },
  {
   "cell_type": "code",
   "execution_count": 19,
   "id": "f0ef9383",
   "metadata": {},
   "outputs": [
    {
     "name": "stdout",
     "output_type": "stream",
     "text": [
      "Parameters for run 2e7f53e68e844134982a419e6900f97c:\n",
      "min_samples_split: 2\n"
     ]
    }
   ],
   "source": [
    "experiment_name = \"02-Experiment-Tracking\"\n",
    "run_id = \"2e7f53e68e844134982a419e6900f97c\"\n",
    "# Get the experiment ID from the experiment name\n",
    "mlflow.set_tracking_uri(\"sqlite:///E:/GitHub/DTC MLOps/mlflow-db/mlflow.db\")\n",
    "experiment = mlflow.get_experiment_by_name(experiment_name)\n",
    "if experiment:\n",
    "    experiment_id = experiment.experiment_id\n",
    "\n",
    "    # Get the run details using the run ID\n",
    "    run = mlflow.get_run(run_id)\n",
    "\n",
    "    # Access parameters from the run\n",
    "    parameters = run.data.params\n",
    "    print(f\"Parameters for run {run_id}:\")\n",
    "    param = 'min_samples_split'\n",
    "    value=parameters['min_samples_split']\n",
    "    print(f\"{param}: {value}\")\n",
    "else:\n",
    "    print(f\"Experiment '{experiment_name}' not found.\")"
   ]
  },
  {
   "cell_type": "markdown",
   "id": "df9f1a73",
   "metadata": {},
   "source": [
    "## Q4. Launch the tracking server locally\n",
    "\n",
    "Now we want to manage the entire lifecycle of our ML model. In this step, you'll need to launch a tracking server. This way we will also have access to the model registry. \n",
    "\n",
    "Your task is to:\n",
    "\n",
    "* launch the tracking server on your local machine,\n",
    "* select a SQLite db for the backend store and a folder called `artifacts` for the artifacts store.\n",
    "\n",
    "You should keep the tracking server running to work on the next two exercises that use the server.\n",
    "\n",
    "In addition to `backend-store-uri`, what else do you need to pass to properly configure the server?\n",
    "\n",
    "* **<span style=\"color:green\">default-artifact-root</span>**\n",
    "* `serve-artifacts`\n",
    "* `artifacts-only`\n",
    "* `artifacts-destination`\n"
   ]
  },
  {
   "cell_type": "markdown",
   "id": "9eadad52",
   "metadata": {},
   "source": [
    "## Q5. Tune model hyperparameters\n",
    "\n",
    "Now let's try to reduce the validation error by tuning the hyperparameters of the `RandomForestRegressor` using `hyperopt`. \n",
    "We have prepared the script `hpo.py` for this exercise. \n",
    "\n",
    "Your task is to modify the script `hpo.py` and make sure that the validation RMSE is logged to the tracking server for each run of the hyperparameter optimization (you will need to add a few lines of code to the `objective` function) and run the script without passing any parameters.\n",
    "\n",
    "After that, open UI and explore the runs from the experiment called `random-forest-hyperopt` to answer the question below.\n",
    "\n",
    "Note: Don't use autologging for this exercise.\n",
    "\n",
    "The idea is to just log the information that you need to answer the question below, including:\n",
    "\n",
    "* the list of hyperparameters that are passed to the `objective` function during the optimization,\n",
    "* the RMSE obtained on the validation set (February 2023 data).\n",
    "\n",
    "What's the best validation RMSE that you got?\n",
    "\n",
    "* 4.817\n",
    "* **<span style=\"color:green\">5.335</span>**\n",
    "* 5.818\n",
    "* 6.336\n"
   ]
  },
  {
   "cell_type": "code",
   "execution_count": 3,
   "id": "bbef418d",
   "metadata": {},
   "outputs": [
    {
     "name": "stdout",
     "output_type": "stream",
     "text": [
      "Experiment 'random-forest-hyperopt' already exists.\n",
      "Artifact Location for 'random-forest-hyperopt': file:///E:/GitHub/DTC MLOps/mlflow-artifacts/random-forest-hyperopt\n",
      "\n",
      "  0%|          | 0/15 [00:00<?, ?trial/s, best loss=?]\n",
      "  7%|▋         | 1/15 [00:13<03:08, 13.47s/trial, best loss: 5.370086069268862]\n",
      " 13%|█▎        | 2/15 [00:14<01:19,  6.13s/trial, best loss: 5.370086069268862]\n",
      " 20%|██        | 3/15 [00:16<00:50,  4.23s/trial, best loss: 5.370086069268862]\n",
      " 27%|██▋       | 4/15 [00:26<01:10,  6.42s/trial, best loss: 5.357490752366866]\n",
      " 33%|███▎      | 5/15 [00:31<00:59,  5.98s/trial, best loss: 5.357490752366866]\n",
      " 40%|████      | 6/15 [00:47<01:25,  9.45s/trial, best loss: 5.354695072530291]\n",
      " 47%|████▋     | 7/15 [01:04<01:34, 11.82s/trial, best loss: 5.354695072530291]\n",
      " 53%|█████▎    | 8/15 [01:06<01:01,  8.76s/trial, best loss: 5.354695072530291]\n",
      " 60%|██████    | 9/15 [01:16<00:55,  9.25s/trial, best loss: 5.354695072530291]\n",
      " 67%|██████▋   | 10/15 [01:25<00:45,  9.08s/trial, best loss: 5.354695072530291]\n",
      " 73%|███████▎  | 11/15 [01:32<00:33,  8.49s/trial, best loss: 5.335419588556921]\n",
      " 80%|████████  | 12/15 [01:38<00:22,  7.57s/trial, best loss: 5.335419588556921]\n",
      " 87%|████████▋ | 13/15 [01:40<00:12,  6.09s/trial, best loss: 5.335419588556921]\n",
      " 93%|█████████▎| 14/15 [01:48<00:06,  6.62s/trial, best loss: 5.335419588556921]\n",
      "100%|██████████| 15/15 [01:58<00:00,  7.71s/trial, best loss: 5.335419588556921]\n",
      "100%|██████████| 15/15 [01:58<00:00,  7.93s/trial, best loss: 5.335419588556921]\n"
     ]
    }
   ],
   "source": [
    "!python hpo.py"
   ]
  },
  {
   "cell_type": "markdown",
   "id": "68257470",
   "metadata": {},
   "source": [
    "## Q6. Promote the best model to the model registry\n",
    "\n",
    "The results from the hyperparameter optimization are quite good. So, we can assume that we are ready to test some of these models in production. \n",
    "In this exercise, you'll promote the best model to the model registry. We have prepared a script called `register_model.py`, which will check the results from the previous step and select the top 5 runs. \n",
    "After that, it will calculate the RMSE of those models on the test set (March 2023 data) and save the results to a new experiment called `random-forest-best-models`.\n",
    "\n",
    "Your task is to update the script `register_model.py` so that it selects the model with the lowest RMSE on the test set and registers it to the model registry.\n",
    "\n",
    "Tip 1: you can use the method `search_runs` from the `MlflowClient` to get the model with the lowest RMSE,\n",
    "\n",
    "Tip 2: to register the model you can use the method `mlflow.register_model` and you will need to pass the right `model_uri` in the form of a string that looks like this: `\"runs:/<RUN_ID>/model\"`, and the name of the model (make sure to choose a good one!).\n",
    "\n",
    "What is the test RMSE of the best model?\n",
    "\n",
    "* 5.060\n",
    "* **<span style=\"color:green\">5.567</span>**\n",
    "* 6.061\n",
    "* 6.568"
   ]
  },
  {
   "cell_type": "code",
   "execution_count": 4,
   "id": "723bfe81",
   "metadata": {},
   "outputs": [
    {
     "name": "stdout",
     "output_type": "stream",
     "text": [
      "Experiment 'random-forest-best-models' created with ID: 2\n",
      "Best run ID: 914c2018ffdb4ae7983fa0d986f2e95f\n",
      "Lowest Test RMSE: 5.567408012462019\n",
      "Name: RandomForestRegressionModel\n",
      "Version: 1\n"
     ]
    },
    {
     "name": "stderr",
     "output_type": "stream",
     "text": [
      "Successfully registered model 'RandomForestRegressionModel'.\n",
      "Created version '1' of model 'RandomForestRegressionModel'.\n"
     ]
    }
   ],
   "source": [
    "!python register_model.py"
   ]
  },
  {
   "cell_type": "code",
   "execution_count": null,
   "id": "b9637097",
   "metadata": {},
   "outputs": [],
   "source": []
  }
 ],
 "metadata": {
  "kernelspec": {
   "display_name": "dtc-mlops",
   "language": "python",
   "name": "python3"
  },
  "language_info": {
   "codemirror_mode": {
    "name": "ipython",
    "version": 3
   },
   "file_extension": ".py",
   "mimetype": "text/x-python",
   "name": "python",
   "nbconvert_exporter": "python",
   "pygments_lexer": "ipython3",
   "version": "3.9.21"
  }
 },
 "nbformat": 4,
 "nbformat_minor": 5
}
